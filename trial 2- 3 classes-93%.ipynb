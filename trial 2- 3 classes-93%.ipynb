{
 "cells": [
  {
   "cell_type": "code",
   "execution_count": 1,
   "metadata": {},
   "outputs": [],
   "source": [
    "import sys\n",
    "sys.path.append('./')\n",
    "sys.path.append('./biovec')\n",
    "from helpers import nGram, DfVec"
   ]
  },
  {
   "cell_type": "code",
   "execution_count": 2,
   "metadata": {},
   "outputs": [
    {
     "data": {
      "text/plain": [
       "[['MAK', 'KSM', 'IAK', 'QKR', 'TPK', 'FKV', 'QEY', 'TRC'],\n",
       " ['AKK', 'SMI', 'AKQ', 'KRT', 'PKF', 'KVQ', 'EYT', 'RCE'],\n",
       " ['KKS', 'MIA', 'KQK', 'RTP', 'KFK', 'VQE', 'YTR', 'CER']]"
      ]
     },
     "execution_count": 2,
     "metadata": {},
     "output_type": "execute_result"
    }
   ],
   "source": [
    "import biovec\n",
    "seq='MAKKSMIAKQKRTPKFKVQEYTRCER'\n",
    "biovec.models.split_ngrams(seq,3)"
   ]
  },
  {
   "cell_type": "code",
   "execution_count": 3,
   "metadata": {},
   "outputs": [
    {
     "data": {
      "text/plain": [
       "True"
      ]
     },
     "execution_count": 3,
     "metadata": {},
     "output_type": "execute_result"
    }
   ],
   "source": [
    "import pandas as pd\n",
    "import numpy as np\n",
    "infile = 'protVec_100d_3grams.csv'\n",
    "df = pd.read_csv(infile,delimiter=' ',header=None)#index_col=[0] \n",
    "df[0][0]==\"AAA\""
   ]
  },
  {
   "cell_type": "code",
   "execution_count": 4,
   "metadata": {},
   "outputs": [],
   "source": [
    "from gensim.models import word2vec\n",
    "from Bio import SeqIO\n",
    "import sys\n",
    "from gensim.models import word2vec\n",
    "\n",
    "\n",
    "def split_ngrams(seq, n):\n",
    "    \"\"\"\n",
    "    'AGAMQSASM' => [['AGA', 'MQS', 'ASM'], ['GAM','QSA'], ['AMQ', 'SAS']]\n",
    "    \"\"\"\n",
    "    a, b, c = zip(*[iter(seq)]*n), zip(*[iter(seq[1:])]*n), zip(*[iter(seq[2:])]*n)\n",
    "    str_ngrams = []\n",
    "    for ngrams in [a,b,c]:\n",
    "        x = []\n",
    "        for ngram in ngrams:\n",
    "            x.append(\"\".join(ngram))\n",
    "        str_ngrams.append(x)\n",
    "    return str_ngrams"
   ]
  },
  {
   "cell_type": "code",
   "execution_count": 5,
   "metadata": {},
   "outputs": [],
   "source": [
    "from gensim.test.utils import datapath, get_tmpfile\n",
    "from gensim.models import KeyedVectors\n",
    "from gensim.scripts.glove2word2vec import glove2word2vec\n",
    "glove_file=('protVec_100d_3grams.csv')\n",
    "tmp_file=get_tmpfile('trial.txt')\n",
    "x=glove2word2vec(glove_file, tmp_file)\n",
    "\n",
    "model = KeyedVectors.load_word2vec_format(tmp_file)\n",
    "\n",
    "def tovecs(seq):\n",
    "    \n",
    "    sequence = split_ngrams(seq, 3)\n",
    "    protvecs=[]\n",
    "    \n",
    "    for sn in sequence:\n",
    "        ngram_vecs=[]\n",
    "        for x in sn:\n",
    "            try:\n",
    "                ngram_vecs.append(model.get_vector(x))\n",
    "            except:\n",
    "                raise Exception(\"Model has never trained this n-gram: \" + x)\n",
    "        protvecs.append(sum(ngram_vecs))\n",
    "    return sum(protvecs)\n",
    "            \n",
    "\n"
   ]
  },
  {
   "cell_type": "code",
   "execution_count": 6,
   "metadata": {},
   "outputs": [
    {
     "data": {
      "text/plain": [
       "array([-2.09203005e-01,  3.33435982e-01,  1.47340059e-01, -9.21236038e-01,\n",
       "       -2.90555954e-01, -2.05921888e-01,  1.08818913e+00,  2.85655022e-01,\n",
       "       -1.20610702e+00,  9.57959056e-01,  8.82208347e-03,  5.67430258e-02,\n",
       "        1.16716027e-01,  4.11549032e-01, -2.03400850e-03,  1.36503398e+00,\n",
       "       -3.15410048e-02, -1.14978290e+00,  6.11533999e-01, -4.44157034e-01,\n",
       "       -1.16117984e-01, -3.26674014e-01, -6.92801952e-01, -7.86531866e-01,\n",
       "        1.35905057e-01,  1.37218595e+00,  1.48863077e-01, -6.81933045e-01,\n",
       "       -9.59183037e-01, -3.92284989e-01, -7.77380943e-01, -9.29587960e-01,\n",
       "        3.34003001e-01,  1.84699798e+00,  1.12115896e+00, -2.56535023e-01,\n",
       "        1.35843706e+00, -1.70737028e-01, -2.09428012e-01, -1.84953034e-01,\n",
       "        1.33703992e-01,  1.50450006e-01, -9.92136955e-01, -6.83079004e-01,\n",
       "       -7.57839680e-02, -4.53465968e-01, -6.85459077e-01, -1.11027002e+00,\n",
       "        1.12571023e-01,  1.43561900e+00, -7.29905069e-03, -1.16033804e+00,\n",
       "        6.44268036e-01, -1.10465395e+00,  1.96949100e+00, -1.74862194e+00,\n",
       "        5.12091935e-01, -5.20056963e-01, -7.87207007e-01, -2.39081097e+00,\n",
       "       -5.89258909e-01,  1.40838313e+00,  1.41592598e+00,  4.90871012e-01,\n",
       "        2.12141991e+00,  5.91693044e-01, -5.59641004e-01,  9.47268009e-01,\n",
       "        2.10433602e+00, -2.59290314e+00, -3.09422016e-01,  3.33227992e-01,\n",
       "        1.10987902e+00, -2.91974962e-01,  7.08356023e-01, -1.80002201e+00,\n",
       "        1.29699600e+00, -2.37520486e-02,  5.28542995e-01, -3.51103961e-01,\n",
       "       -2.89292097e+00, -5.89693069e-01, -1.09017015e+00, -1.35224700e+00,\n",
       "        1.38133287e+00, -4.56290543e-02, -4.36152995e-01, -2.60234690e+00,\n",
       "       -1.32209396e+00,  7.39613056e-01,  6.47657990e-01,  1.04765499e+00,\n",
       "       -7.73988008e-01, -1.00453305e+00,  1.75666797e+00, -2.56834000e-01,\n",
       "       -1.28323603e+00, -1.08747721e+00, -7.50201046e-01,  1.30779195e+00],\n",
       "      dtype=float32)"
      ]
     },
     "execution_count": 6,
     "metadata": {},
     "output_type": "execute_result"
    }
   ],
   "source": [
    "tovecs('MAKKSMIAKQKRTPKFKVQEYTRCER')"
   ]
  },
  {
   "cell_type": "code",
   "execution_count": 7,
   "metadata": {},
   "outputs": [],
   "source": [
    "infile = 'family_classification_metadata.tab'\n",
    "add='family_classification_sequences.tab'"
   ]
  },
  {
   "cell_type": "code",
   "execution_count": 8,
   "metadata": {},
   "outputs": [],
   "source": [
    "df = pd.read_csv(infile,delimiter='\\t')\n",
    "df['sequence'] = pd.read_csv(add,delimiter='\\t')"
   ]
  },
  {
   "cell_type": "code",
   "execution_count": 9,
   "metadata": {},
   "outputs": [
    {
     "data": {
      "text/html": [
       "<div>\n",
       "<style scoped>\n",
       "    .dataframe tbody tr th:only-of-type {\n",
       "        vertical-align: middle;\n",
       "    }\n",
       "\n",
       "    .dataframe tbody tr th {\n",
       "        vertical-align: top;\n",
       "    }\n",
       "\n",
       "    .dataframe thead th {\n",
       "        text-align: right;\n",
       "    }\n",
       "</style>\n",
       "<table border=\"1\" class=\"dataframe\">\n",
       "  <thead>\n",
       "    <tr style=\"text-align: right;\">\n",
       "      <th></th>\n",
       "      <th>SwissProtAccessionID</th>\n",
       "      <th>LongID</th>\n",
       "      <th>ProteinName</th>\n",
       "      <th>FamilyID</th>\n",
       "      <th>FamilyDescription</th>\n",
       "      <th>sequence</th>\n",
       "    </tr>\n",
       "  </thead>\n",
       "  <tbody>\n",
       "    <tr>\n",
       "      <th>0</th>\n",
       "      <td>Q6GZX4</td>\n",
       "      <td>001R_FRG3G</td>\n",
       "      <td>Putative transcription factor 001R</td>\n",
       "      <td>Pox_VLTF3</td>\n",
       "      <td>Poxvirus Late Transcription Factor VLTF3 like</td>\n",
       "      <td>MAFSAEDVLKEYDRRRRMEALLLSLYYPNDRKLLDYKEWSPPRVQV...</td>\n",
       "    </tr>\n",
       "    <tr>\n",
       "      <th>1</th>\n",
       "      <td>Q6GZX3</td>\n",
       "      <td>002L_FRG3G</td>\n",
       "      <td>Uncharacterized protein 002L</td>\n",
       "      <td>DUF230</td>\n",
       "      <td>Poxvirus proteins of unknown function</td>\n",
       "      <td>MSIIGATRLQNDKSDTYSAGPCYAGGCSAFTPRGTCGKDWDLGEQT...</td>\n",
       "    </tr>\n",
       "    <tr>\n",
       "      <th>2</th>\n",
       "      <td>Q6GZX0</td>\n",
       "      <td>005R_FRG3G</td>\n",
       "      <td>Uncharacterized protein 005R</td>\n",
       "      <td>US22</td>\n",
       "      <td>US22 like</td>\n",
       "      <td>MQNPLPEVMSPEHDKRTTTPMSKEANKFIRELDKKPGDLAVVSDFV...</td>\n",
       "    </tr>\n",
       "    <tr>\n",
       "      <th>3</th>\n",
       "      <td>Q91G88</td>\n",
       "      <td>006L_IIV6</td>\n",
       "      <td>Putative KilA-N domain-containing protein 006L</td>\n",
       "      <td>DUF3627</td>\n",
       "      <td>Protein of unknown function (DUF3627)</td>\n",
       "      <td>MDSLNEVCYEQIKGTFYKGLFGDFPLIVDKKTGCFNATKLCVLGGK...</td>\n",
       "    </tr>\n",
       "    <tr>\n",
       "      <th>4</th>\n",
       "      <td>Q197F3</td>\n",
       "      <td>007R_IIV3</td>\n",
       "      <td>Uncharacterized protein 007R</td>\n",
       "      <td>DUF2738</td>\n",
       "      <td>Protein of unknown function (DUF2738)</td>\n",
       "      <td>MEAKNITIDNTTYNFFKFYNINQPLTNLKYLNSERLCFSNAVMGKI...</td>\n",
       "    </tr>\n",
       "  </tbody>\n",
       "</table>\n",
       "</div>"
      ],
      "text/plain": [
       "  SwissProtAccessionID      LongID  \\\n",
       "0               Q6GZX4  001R_FRG3G   \n",
       "1               Q6GZX3  002L_FRG3G   \n",
       "2               Q6GZX0  005R_FRG3G   \n",
       "3               Q91G88   006L_IIV6   \n",
       "4               Q197F3   007R_IIV3   \n",
       "\n",
       "                                      ProteinName   FamilyID  \\\n",
       "0              Putative transcription factor 001R  Pox_VLTF3   \n",
       "1                    Uncharacterized protein 002L     DUF230   \n",
       "2                    Uncharacterized protein 005R       US22   \n",
       "3  Putative KilA-N domain-containing protein 006L    DUF3627   \n",
       "4                    Uncharacterized protein 007R    DUF2738   \n",
       "\n",
       "                               FamilyDescription  \\\n",
       "0  Poxvirus Late Transcription Factor VLTF3 like   \n",
       "1          Poxvirus proteins of unknown function   \n",
       "2                                      US22 like   \n",
       "3          Protein of unknown function (DUF3627)   \n",
       "4          Protein of unknown function (DUF2738)   \n",
       "\n",
       "                                            sequence  \n",
       "0  MAFSAEDVLKEYDRRRRMEALLLSLYYPNDRKLLDYKEWSPPRVQV...  \n",
       "1  MSIIGATRLQNDKSDTYSAGPCYAGGCSAFTPRGTCGKDWDLGEQT...  \n",
       "2  MQNPLPEVMSPEHDKRTTTPMSKEANKFIRELDKKPGDLAVVSDFV...  \n",
       "3  MDSLNEVCYEQIKGTFYKGLFGDFPLIVDKKTGCFNATKLCVLGGK...  \n",
       "4  MEAKNITIDNTTYNFFKFYNINQPLTNLKYLNSERLCFSNAVMGKI...  "
      ]
     },
     "execution_count": 9,
     "metadata": {},
     "output_type": "execute_result"
    }
   ],
   "source": [
    "df.head()"
   ]
  },
  {
   "cell_type": "code",
   "execution_count": 10,
   "metadata": {},
   "outputs": [
    {
     "data": {
      "text/html": [
       "<div>\n",
       "<style scoped>\n",
       "    .dataframe tbody tr th:only-of-type {\n",
       "        vertical-align: middle;\n",
       "    }\n",
       "\n",
       "    .dataframe tbody tr th {\n",
       "        vertical-align: top;\n",
       "    }\n",
       "\n",
       "    .dataframe thead th {\n",
       "        text-align: right;\n",
       "    }\n",
       "</style>\n",
       "<table border=\"1\" class=\"dataframe\">\n",
       "  <thead>\n",
       "    <tr style=\"text-align: right;\">\n",
       "      <th></th>\n",
       "      <th>SwissProtAccessionID</th>\n",
       "      <th>LongID</th>\n",
       "      <th>ProteinName</th>\n",
       "      <th>FamilyID</th>\n",
       "      <th>FamilyDescription</th>\n",
       "      <th>sequence</th>\n",
       "    </tr>\n",
       "  </thead>\n",
       "  <tbody>\n",
       "    <tr>\n",
       "      <th>5</th>\n",
       "      <td>Q6GZW6</td>\n",
       "      <td>009L_FRG3G</td>\n",
       "      <td>Putative helicase 009L</td>\n",
       "      <td>Helicase_C</td>\n",
       "      <td>Helicase conserved C-terminal domain</td>\n",
       "      <td>MDTSPYDFLKLYPWLSRGEADKGTLLDAFPGETFEQSLASDVAMRR...</td>\n",
       "    </tr>\n",
       "    <tr>\n",
       "      <th>69</th>\n",
       "      <td>P32234</td>\n",
       "      <td>128UP_DROME</td>\n",
       "      <td>GTP-binding protein 128up</td>\n",
       "      <td>MMR_HSR1</td>\n",
       "      <td>50S ribosome-binding GTPase</td>\n",
       "      <td>MSTILEKISAIESEMARTQKNKATSAHLGLLKAKLAKLRRELISPK...</td>\n",
       "    </tr>\n",
       "    <tr>\n",
       "      <th>86</th>\n",
       "      <td>O55764</td>\n",
       "      <td>172L_IIV6</td>\n",
       "      <td>Putative helicase 172L</td>\n",
       "      <td>Helicase_C</td>\n",
       "      <td>Helicase conserved C-terminal domain</td>\n",
       "      <td>MADAMNELCNLTQHLQVDDDQLSNLKLKNGYSLFPHQEKVMLWMKY...</td>\n",
       "    </tr>\n",
       "    <tr>\n",
       "      <th>976</th>\n",
       "      <td>Q9J550</td>\n",
       "      <td>A18_FOWPN</td>\n",
       "      <td>Transcript termination protein A18</td>\n",
       "      <td>Helicase_C</td>\n",
       "      <td>Helicase conserved C-terminal domain</td>\n",
       "      <td>MSYITVIDDKLYSSLRKLVGYSPLYLFNDKGDFVEVMKNSEFRFLI...</td>\n",
       "    </tr>\n",
       "    <tr>\n",
       "      <th>986</th>\n",
       "      <td>Q9DHK3</td>\n",
       "      <td>A18_YLDV</td>\n",
       "      <td>Transcript termination protein A18</td>\n",
       "      <td>Helicase_C</td>\n",
       "      <td>Helicase conserved C-terminal domain</td>\n",
       "      <td>MSVCTEIDYKLYTELKKIAGNSLFLFNENGDFTEVVLNSSFKFLVP...</td>\n",
       "    </tr>\n",
       "  </tbody>\n",
       "</table>\n",
       "</div>"
      ],
      "text/plain": [
       "    SwissProtAccessionID       LongID                         ProteinName  \\\n",
       "5                 Q6GZW6   009L_FRG3G              Putative helicase 009L   \n",
       "69                P32234  128UP_DROME           GTP-binding protein 128up   \n",
       "86                O55764    172L_IIV6              Putative helicase 172L   \n",
       "976               Q9J550    A18_FOWPN  Transcript termination protein A18   \n",
       "986               Q9DHK3     A18_YLDV  Transcript termination protein A18   \n",
       "\n",
       "       FamilyID                     FamilyDescription  \\\n",
       "5    Helicase_C  Helicase conserved C-terminal domain   \n",
       "69     MMR_HSR1           50S ribosome-binding GTPase   \n",
       "86   Helicase_C  Helicase conserved C-terminal domain   \n",
       "976  Helicase_C  Helicase conserved C-terminal domain   \n",
       "986  Helicase_C  Helicase conserved C-terminal domain   \n",
       "\n",
       "                                              sequence  \n",
       "5    MDTSPYDFLKLYPWLSRGEADKGTLLDAFPGETFEQSLASDVAMRR...  \n",
       "69   MSTILEKISAIESEMARTQKNKATSAHLGLLKAKLAKLRRELISPK...  \n",
       "86   MADAMNELCNLTQHLQVDDDQLSNLKLKNGYSLFPHQEKVMLWMKY...  \n",
       "976  MSYITVIDDKLYSSLRKLVGYSPLYLFNDKGDFVEVMKNSEFRFLI...  \n",
       "986  MSVCTEIDYKLYTELKKIAGNSLFLFNENGDFTEVVLNSSFKFLVP...  "
      ]
     },
     "execution_count": 10,
     "metadata": {},
     "output_type": "execute_result"
    }
   ],
   "source": [
    "more1000=df['FamilyID'].value_counts()[:3].index.tolist()\n",
    "indices=df[df['FamilyID'].isin(more1000)].index.values\n",
    "df1000= df[df.index.isin(indices)]\n",
    "df1000.head()"
   ]
  },
  {
   "cell_type": "code",
   "execution_count": 9,
   "metadata": {},
   "outputs": [
    {
     "data": {
      "text/plain": [
       "<biovec.models.ProtVec at 0x12ed06250>"
      ]
     },
     "execution_count": 9,
     "metadata": {},
     "output_type": "execute_result"
    }
   ],
   "source": [
    "pv2 = biovec.models.load_protvec('trained_models/full.model')\n",
    "pv2"
   ]
  },
  {
   "cell_type": "code",
   "execution_count": 12,
   "metadata": {},
   "outputs": [
    {
     "name": "stdout",
     "output_type": "stream",
     "text": [
      "number of proteins skipped:  0\n"
     ]
    },
    {
     "name": "stderr",
     "output_type": "stream",
     "text": [
      "/Library/Frameworks/Python.framework/Versions/3.7/lib/python3.7/site-packages/ipykernel_launcher.py:17: SettingWithCopyWarning: \n",
      "A value is trying to be set on a copy of a slice from a DataFrame.\n",
      "Try using .loc[row_indexer,col_indexer] = value instead\n",
      "\n",
      "See the caveats in the documentation: https://pandas.pydata.org/pandas-docs/stable/user_guide/indexing.html#returning-a-view-versus-a-copy\n"
     ]
    }
   ],
   "source": [
    "#original\n",
    "all_vectors=[]\n",
    "i=0\n",
    "    \n",
    "for sequence in df1000['sequence']:\n",
    "\n",
    "    try:\n",
    "        vector = DfVec(sum(pv2.to_vecs(sequence)))#using trained model embedding\n",
    "        all_vectors.append(vector) # split strings after whitespace\n",
    "\n",
    "    except:\n",
    "        vector=DfVec(np.zeros(250))\n",
    "        all_vectors.append(vector)\n",
    "        \n",
    "print('number of proteins skipped: ',i)\n",
    "     \n",
    "df1000['Protein_vector'] = all_vectors # safe unique words in df"
   ]
  },
  {
   "cell_type": "code",
   "execution_count": 13,
   "metadata": {},
   "outputs": [
    {
     "data": {
      "text/html": [
       "<div>\n",
       "<style scoped>\n",
       "    .dataframe tbody tr th:only-of-type {\n",
       "        vertical-align: middle;\n",
       "    }\n",
       "\n",
       "    .dataframe tbody tr th {\n",
       "        vertical-align: top;\n",
       "    }\n",
       "\n",
       "    .dataframe thead th {\n",
       "        text-align: right;\n",
       "    }\n",
       "</style>\n",
       "<table border=\"1\" class=\"dataframe\">\n",
       "  <thead>\n",
       "    <tr style=\"text-align: right;\">\n",
       "      <th></th>\n",
       "      <th>SwissProtAccessionID</th>\n",
       "      <th>LongID</th>\n",
       "      <th>ProteinName</th>\n",
       "      <th>FamilyID</th>\n",
       "      <th>FamilyDescription</th>\n",
       "      <th>sequence</th>\n",
       "      <th>Protein_vector</th>\n",
       "    </tr>\n",
       "  </thead>\n",
       "  <tbody>\n",
       "    <tr>\n",
       "      <th>70</th>\n",
       "      <td>P32234</td>\n",
       "      <td>128UP_DROME</td>\n",
       "      <td>GTP-binding protein 128up</td>\n",
       "      <td>TGS</td>\n",
       "      <td>TGS domain</td>\n",
       "      <td>MSTILEKISAIESEMARTQKNKATSAHLGLLKAKLAKLRRELISPK...</td>\n",
       "      <td>250 dimensional vector</td>\n",
       "    </tr>\n",
       "    <tr>\n",
       "      <th>72</th>\n",
       "      <td>Q8GBW6</td>\n",
       "      <td>12S_PROFR</td>\n",
       "      <td>Methylmalonyl-CoA carboxyltransferase 12S subunit</td>\n",
       "      <td>Carboxyl_trans</td>\n",
       "      <td>Carboxyl transferase domain</td>\n",
       "      <td>MAENNNLKLASTMEGRVEQLAEQRQVIEAGGGERRVEKQHSQGKQT...</td>\n",
       "      <td>250 dimensional vector</td>\n",
       "    </tr>\n",
       "    <tr>\n",
       "      <th>354</th>\n",
       "      <td>D3DJ41</td>\n",
       "      <td>2OCL_HYDTT</td>\n",
       "      <td>2-oxoglutarate carboxylase large subunit</td>\n",
       "      <td>HMGL-like</td>\n",
       "      <td>HMGL-like</td>\n",
       "      <td>MQAVEIMEEIREKFKEFEKGGFRKKILITDLTPRDGQQCKLATRVR...</td>\n",
       "      <td>250 dimensional vector</td>\n",
       "    </tr>\n",
       "    <tr>\n",
       "      <th>828</th>\n",
       "      <td>Q70AC7</td>\n",
       "      <td>5S_PROFR</td>\n",
       "      <td>Methylmalonyl-CoA carboxyltransferase 5S subunit</td>\n",
       "      <td>HMGL-like</td>\n",
       "      <td>HMGL-like</td>\n",
       "      <td>MSPREIEVSEPREVGITELVLRDAHQSLMATRMAMEDMVGACADID...</td>\n",
       "      <td>250 dimensional vector</td>\n",
       "    </tr>\n",
       "    <tr>\n",
       "      <th>1100</th>\n",
       "      <td>Q98514</td>\n",
       "      <td>A464_PBCV1</td>\n",
       "      <td>Putative protein A464R</td>\n",
       "      <td>Ribonuclease_3</td>\n",
       "      <td>Ribonuclease III domain</td>\n",
       "      <td>MENISKCMERGTTVGTMMVSERFKDQVQIPNTDDNFPEGPPSTKSG...</td>\n",
       "      <td>250 dimensional vector</td>\n",
       "    </tr>\n",
       "    <tr>\n",
       "      <th>...</th>\n",
       "      <td>...</td>\n",
       "      <td>...</td>\n",
       "      <td>...</td>\n",
       "      <td>...</td>\n",
       "      <td>...</td>\n",
       "      <td>...</td>\n",
       "      <td>...</td>\n",
       "    </tr>\n",
       "    <tr>\n",
       "      <th>322824</th>\n",
       "      <td>Q6GEP3</td>\n",
       "      <td>ZDH1_STAAR</td>\n",
       "      <td>Zinc-type alcohol dehydrogenase-like protein S...</td>\n",
       "      <td>ADH_zinc_N</td>\n",
       "      <td>Zinc-binding dehydrogenase</td>\n",
       "      <td>MKMIGFEKPFKLEEGNLFKVYEQRKPTPENDDILVKVNSISVNPVD...</td>\n",
       "      <td>250 dimensional vector</td>\n",
       "    </tr>\n",
       "    <tr>\n",
       "      <th>322825</th>\n",
       "      <td>Q6G7C8</td>\n",
       "      <td>ZDH1_STAAS</td>\n",
       "      <td>Zinc-type alcohol dehydrogenase-like protein S...</td>\n",
       "      <td>ADH_zinc_N</td>\n",
       "      <td>Zinc-binding dehydrogenase</td>\n",
       "      <td>MKMIGFEKPFKLEEGNLFKVYEQRKPTPENDDILVKVNSISVNPVD...</td>\n",
       "      <td>250 dimensional vector</td>\n",
       "    </tr>\n",
       "    <tr>\n",
       "      <th>322826</th>\n",
       "      <td>Q8NVD1</td>\n",
       "      <td>ZDH1_STAAW</td>\n",
       "      <td>Zinc-type alcohol dehydrogenase-like protein M...</td>\n",
       "      <td>ADH_zinc_N</td>\n",
       "      <td>Zinc-binding dehydrogenase</td>\n",
       "      <td>MKMIGFEKPFKLEEGNLFKVYEQRKPTPENDDILVKVNSISVNPVD...</td>\n",
       "      <td>250 dimensional vector</td>\n",
       "    </tr>\n",
       "    <tr>\n",
       "      <th>322827</th>\n",
       "      <td>Q5HM44</td>\n",
       "      <td>ZDH1_STAEQ</td>\n",
       "      <td>Zinc-type alcohol dehydrogenase-like protein S...</td>\n",
       "      <td>ADH_zinc_N</td>\n",
       "      <td>Zinc-binding dehydrogenase</td>\n",
       "      <td>MKAIGFKSSFQLDEGNCFEEFNFDIPHPSGHELLVKVQSISVNPVD...</td>\n",
       "      <td>250 dimensional vector</td>\n",
       "    </tr>\n",
       "    <tr>\n",
       "      <th>322828</th>\n",
       "      <td>Q8CRJ7</td>\n",
       "      <td>ZDH1_STAES</td>\n",
       "      <td>Zinc-type alcohol dehydrogenase-like protein S...</td>\n",
       "      <td>ADH_zinc_N</td>\n",
       "      <td>Zinc-binding dehydrogenase</td>\n",
       "      <td>MKAIGFKSSFQLDEGNCFEEFNFDIPHPSGHELLVKVQSISVNPVD...</td>\n",
       "      <td>250 dimensional vector</td>\n",
       "    </tr>\n",
       "  </tbody>\n",
       "</table>\n",
       "<p>30020 rows × 7 columns</p>\n",
       "</div>"
      ],
      "text/plain": [
       "       SwissProtAccessionID       LongID  \\\n",
       "70                   P32234  128UP_DROME   \n",
       "72                   Q8GBW6    12S_PROFR   \n",
       "354                  D3DJ41   2OCL_HYDTT   \n",
       "828                  Q70AC7     5S_PROFR   \n",
       "1100                 Q98514   A464_PBCV1   \n",
       "...                     ...          ...   \n",
       "322824               Q6GEP3   ZDH1_STAAR   \n",
       "322825               Q6G7C8   ZDH1_STAAS   \n",
       "322826               Q8NVD1   ZDH1_STAAW   \n",
       "322827               Q5HM44   ZDH1_STAEQ   \n",
       "322828               Q8CRJ7   ZDH1_STAES   \n",
       "\n",
       "                                              ProteinName        FamilyID  \\\n",
       "70                              GTP-binding protein 128up             TGS   \n",
       "72      Methylmalonyl-CoA carboxyltransferase 12S subunit  Carboxyl_trans   \n",
       "354              2-oxoglutarate carboxylase large subunit       HMGL-like   \n",
       "828      Methylmalonyl-CoA carboxyltransferase 5S subunit       HMGL-like   \n",
       "1100                               Putative protein A464R  Ribonuclease_3   \n",
       "...                                                   ...             ...   \n",
       "322824  Zinc-type alcohol dehydrogenase-like protein S...      ADH_zinc_N   \n",
       "322825  Zinc-type alcohol dehydrogenase-like protein S...      ADH_zinc_N   \n",
       "322826  Zinc-type alcohol dehydrogenase-like protein M...      ADH_zinc_N   \n",
       "322827  Zinc-type alcohol dehydrogenase-like protein S...      ADH_zinc_N   \n",
       "322828  Zinc-type alcohol dehydrogenase-like protein S...      ADH_zinc_N   \n",
       "\n",
       "                  FamilyDescription  \\\n",
       "70                       TGS domain   \n",
       "72      Carboxyl transferase domain   \n",
       "354                       HMGL-like   \n",
       "828                       HMGL-like   \n",
       "1100        Ribonuclease III domain   \n",
       "...                             ...   \n",
       "322824   Zinc-binding dehydrogenase   \n",
       "322825   Zinc-binding dehydrogenase   \n",
       "322826   Zinc-binding dehydrogenase   \n",
       "322827   Zinc-binding dehydrogenase   \n",
       "322828   Zinc-binding dehydrogenase   \n",
       "\n",
       "                                                 sequence  \\\n",
       "70      MSTILEKISAIESEMARTQKNKATSAHLGLLKAKLAKLRRELISPK...   \n",
       "72      MAENNNLKLASTMEGRVEQLAEQRQVIEAGGGERRVEKQHSQGKQT...   \n",
       "354     MQAVEIMEEIREKFKEFEKGGFRKKILITDLTPRDGQQCKLATRVR...   \n",
       "828     MSPREIEVSEPREVGITELVLRDAHQSLMATRMAMEDMVGACADID...   \n",
       "1100    MENISKCMERGTTVGTMMVSERFKDQVQIPNTDDNFPEGPPSTKSG...   \n",
       "...                                                   ...   \n",
       "322824  MKMIGFEKPFKLEEGNLFKVYEQRKPTPENDDILVKVNSISVNPVD...   \n",
       "322825  MKMIGFEKPFKLEEGNLFKVYEQRKPTPENDDILVKVNSISVNPVD...   \n",
       "322826  MKMIGFEKPFKLEEGNLFKVYEQRKPTPENDDILVKVNSISVNPVD...   \n",
       "322827  MKAIGFKSSFQLDEGNCFEEFNFDIPHPSGHELLVKVQSISVNPVD...   \n",
       "322828  MKAIGFKSSFQLDEGNCFEEFNFDIPHPSGHELLVKVQSISVNPVD...   \n",
       "\n",
       "                Protein_vector  \n",
       "70      250 dimensional vector  \n",
       "72      250 dimensional vector  \n",
       "354     250 dimensional vector  \n",
       "828     250 dimensional vector  \n",
       "1100    250 dimensional vector  \n",
       "...                        ...  \n",
       "322824  250 dimensional vector  \n",
       "322825  250 dimensional vector  \n",
       "322826  250 dimensional vector  \n",
       "322827  250 dimensional vector  \n",
       "322828  250 dimensional vector  \n",
       "\n",
       "[30020 rows x 7 columns]"
      ]
     },
     "execution_count": 13,
     "metadata": {},
     "output_type": "execute_result"
    }
   ],
   "source": [
    "df1000"
   ]
  },
  {
   "cell_type": "code",
   "execution_count": 11,
   "metadata": {},
   "outputs": [],
   "source": [
    "\n",
    "def tovecs(seq):\n",
    "    \n",
    "    sequence = split_ngrams(seq, 3)\n",
    "    protvecs=[]\n",
    "    \n",
    "    for sn in sequence:\n",
    "        ngram_vecs=[]\n",
    "        for x in sn:\n",
    "            try:\n",
    "                ngram_vecs.append(model.get_vector(x))\n",
    "            except:\n",
    "                #raise Exception(\"Model has never trained this n-gram: \" + x)\n",
    "                ngram_vecs.append(np.zeros(100))#if it is not in csv file, it's rare-->skip\n",
    "        protvecs.append(sum(ngram_vecs))\n",
    "    return sum(protvecs)\n",
    "\n",
    "allvectors=[]\n",
    "i=0\n",
    "    \n",
    "for sequence in df['sequence']:\n",
    "    try:\n",
    "\n",
    "        vec = DfVec(tovecs(sequence))\n",
    "        allvectors.append(vec) # split strings after whitespace\n",
    "    except:\n",
    "        allvectors.append(DfVec(np.zeros(100)))\n",
    "\n",
    "     \n",
    "df['Protein_vector'] = allvectors # safe unique words in df\n"
   ]
  },
  {
   "cell_type": "code",
   "execution_count": 12,
   "metadata": {},
   "outputs": [],
   "source": [
    "from __future__ import print_function\n",
    "from sklearn.decomposition import PCA\n",
    "from sklearn.manifold import TSNE\n",
    "import seaborn as sns\n",
    "\n",
    "%matplotlib inline"
   ]
  },
  {
   "cell_type": "code",
   "execution_count": null,
   "metadata": {},
   "outputs": [],
   "source": [
    "from datetime import datetime\n",
    "startTime = datetime.now()\n",
    "\n",
    "pca_model = PCA(n_components=30,random_state=0)\n",
    "tsne_model = TSNE(n_components=3, random_state=0,perplexity=30, n_iter=1000)\n",
    "tsne_pca = tsne_model.fit_transform(pca_model.fit_transform(vector_array))\n",
    "print (datetime.now() - startTime)"
   ]
  },
  {
   "cell_type": "code",
   "execution_count": null,
   "metadata": {},
   "outputs": [],
   "source": [
    "df['PCA-t-SNE-c1'] = tsne_pca.T[0]\n",
    "df['PCA-t-SNE-c2'] = tsne_pca.T[1]"
   ]
  },
  {
   "cell_type": "code",
   "execution_count": null,
   "metadata": {},
   "outputs": [],
   "source": [
    "vector_array =[x for x in df1000['Protein_vector']]"
   ]
  },
  {
   "cell_type": "code",
   "execution_count": null,
   "metadata": {},
   "outputs": [],
   "source": [
    "from sklearn.preprocessing import LabelEncoder"
   ]
  },
  {
   "cell_type": "code",
   "execution_count": null,
   "metadata": {},
   "outputs": [],
   "source": [
    "encoder = LabelEncoder()\n",
    "encoder.fit(df1000['FamilyID'])\n",
    "encoded_y = encoder.transform(df1000['FamilyID'])\n",
    "df1000['class'] = encoded_y"
   ]
  },
  {
   "cell_type": "code",
   "execution_count": null,
   "metadata": {},
   "outputs": [],
   "source": [
    "encoded_y"
   ]
  },
  {
   "cell_type": "code",
   "execution_count": null,
   "metadata": {},
   "outputs": [],
   "source": [
    "sns.pairplot(df, hue='class', vars=['PCA-t-SNE-c1', 'PCA-t-SNE-c2'], palette='viridis', \n",
    "             size=5, markers='o', plot_kws={'alpha':0.4});"
   ]
  },
  {
   "cell_type": "code",
   "execution_count": null,
   "metadata": {},
   "outputs": [],
   "source": [
    "from keras.models import Sequential\n",
    "from keras.layers import Dense, Dropout\n",
    "from keras.wrappers.scikit_learn import KerasClassifier\n",
    "from keras.utils import np_utils\n",
    "from sklearn.model_selection import cross_val_score, cross_val_predict\n",
    "from sklearn.model_selection import KFold\n",
    "from sklearn.preprocessing import LabelEncoder\n",
    "from sklearn.pipeline import Pipeline\n",
    "import numpy as np"
   ]
  },
  {
   "cell_type": "code",
   "execution_count": null,
   "metadata": {},
   "outputs": [],
   "source": [
    "df_subset = df1000.iloc[::1, :] # takes every x-th value in df"
   ]
  },
  {
   "cell_type": "code",
   "execution_count": null,
   "metadata": {},
   "outputs": [],
   "source": [
    "X = np.array([x.vec for x in df_subset['Protein_vector']])\n",
    "y = df_subset['class']"
   ]
  },
  {
   "cell_type": "code",
   "execution_count": null,
   "metadata": {
    "scrolled": true
   },
   "outputs": [],
   "source": [
    "df1000['class'].count()"
   ]
  },
  {
   "cell_type": "code",
   "execution_count": 25,
   "metadata": {},
   "outputs": [],
   "source": [
    "#convert integers to dummy variables (i.e. one hot encoded)\n",
    "dummy_y = np_utils.to_categorical(y)"
   ]
  },
  {
   "cell_type": "code",
   "execution_count": 26,
   "metadata": {},
   "outputs": [
    {
     "data": {
      "text/plain": [
       "125    7\n",
       "126    7\n",
       "127    7\n",
       "128    7\n",
       "129    7\n",
       "Name: class, dtype: int64"
      ]
     },
     "execution_count": 26,
     "metadata": {},
     "output_type": "execute_result"
    }
   ],
   "source": [
    "y[0:5]"
   ]
  },
  {
   "cell_type": "code",
   "execution_count": 27,
   "metadata": {},
   "outputs": [
    {
     "data": {
      "text/plain": [
       "array([[0., 0., 0., 0., 0., 0., 0., 1., 0., 0., 0., 0., 0., 0., 0., 0.,\n",
       "        0., 0., 0., 0., 0., 0., 0., 0., 0.],\n",
       "       [0., 0., 0., 0., 0., 0., 0., 1., 0., 0., 0., 0., 0., 0., 0., 0.,\n",
       "        0., 0., 0., 0., 0., 0., 0., 0., 0.],\n",
       "       [0., 0., 0., 0., 0., 0., 0., 1., 0., 0., 0., 0., 0., 0., 0., 0.,\n",
       "        0., 0., 0., 0., 0., 0., 0., 0., 0.],\n",
       "       [0., 0., 0., 0., 0., 0., 0., 1., 0., 0., 0., 0., 0., 0., 0., 0.,\n",
       "        0., 0., 0., 0., 0., 0., 0., 0., 0.],\n",
       "       [0., 0., 0., 0., 0., 0., 0., 1., 0., 0., 0., 0., 0., 0., 0., 0.,\n",
       "        0., 0., 0., 0., 0., 0., 0., 0., 0.],\n",
       "       [0., 0., 0., 0., 0., 0., 0., 1., 0., 0., 0., 0., 0., 0., 0., 0.,\n",
       "        0., 0., 0., 0., 0., 0., 0., 0., 0.],\n",
       "       [0., 0., 0., 0., 0., 0., 0., 1., 0., 0., 0., 0., 0., 0., 0., 0.,\n",
       "        0., 0., 0., 0., 0., 0., 0., 0., 0.],\n",
       "       [0., 0., 0., 0., 0., 0., 0., 1., 0., 0., 0., 0., 0., 0., 0., 0.,\n",
       "        0., 0., 0., 0., 0., 0., 0., 0., 0.],\n",
       "       [0., 0., 0., 0., 0., 0., 0., 1., 0., 0., 0., 0., 0., 0., 0., 0.,\n",
       "        0., 0., 0., 0., 0., 0., 0., 0., 0.],\n",
       "       [0., 0., 0., 0., 0., 0., 0., 1., 0., 0., 0., 0., 0., 0., 0., 0.,\n",
       "        0., 0., 0., 0., 0., 0., 0., 0., 0.]], dtype=float32)"
      ]
     },
     "execution_count": 27,
     "metadata": {},
     "output_type": "execute_result"
    }
   ],
   "source": [
    "dummy_y[:10]"
   ]
  },
  {
   "cell_type": "code",
   "execution_count": 28,
   "metadata": {},
   "outputs": [],
   "source": [
    "def baseline_model():\n",
    "    # create model\n",
    "    model = Sequential()\n",
    "    # input layer\n",
    "    model.add(Dense(100, input_dim=250, kernel_initializer='normal', activation='relu'))\n",
    "    model.add(Dropout(0.5))\n",
    "    # hidden layer\n",
    "    model.add(Dense(100, kernel_initializer='normal', activation='relu'))\n",
    "    model.add(Dropout(0.5))\n",
    "    # output layer\n",
    "    model.add(Dense(25, kernel_initializer='normal', activation='sigmoid'))\n",
    "    # Compile model\n",
    "    model.compile(loss='categorical_crossentropy', optimizer='sgd', metrics=['accuracy'])\n",
    "    return model"
   ]
  },
  {
   "cell_type": "code",
   "execution_count": 29,
   "metadata": {},
   "outputs": [],
   "source": [
    "estimator = KerasClassifier(build_fn=baseline_model, nb_epoch=50, batch_size=32, verbose=0)"
   ]
  },
  {
   "cell_type": "code",
   "execution_count": 30,
   "metadata": {},
   "outputs": [],
   "source": [
    "kfold = KFold(n_splits=5, shuffle=True)"
   ]
  },
  {
   "cell_type": "code",
   "execution_count": 31,
   "metadata": {},
   "outputs": [
    {
     "name": "stdout",
     "output_type": "stream",
     "text": [
      "0:00:04.651490\n"
     ]
    }
   ],
   "source": [
    "from datetime import datetime\n",
    "startTime = datetime.now()\n",
    "\n",
    "proba = cross_val_predict(estimator, X, dummy_y, cv=kfold, method='predict_proba')\n",
    "print (datetime.now() - startTime)"
   ]
  },
  {
   "cell_type": "code",
   "execution_count": 32,
   "metadata": {},
   "outputs": [],
   "source": [
    "prob_class = list()\n",
    "\n",
    "for X in proba:\n",
    "    \n",
    "    new_class = np.argmax(X)\n",
    "    prob_class.append(new_class)"
   ]
  },
  {
   "cell_type": "code",
   "execution_count": 33,
   "metadata": {},
   "outputs": [],
   "source": [
    "from sklearn.metrics import confusion_matrix, accuracy_score, classification_report\n",
    "from matplotlib import pyplot as plt\n",
    "import seaborn as sns\n",
    "sns.set_style(\"whitegrid\", {'axes.grid' : False})\n",
    "sns.set_context('talk', font_scale=2)\n",
    "from helpers import confusion_matrix_plot"
   ]
  },
  {
   "cell_type": "code",
   "execution_count": 34,
   "metadata": {},
   "outputs": [],
   "source": [
    "probs = np.asarray(prob_class)"
   ]
  },
  {
   "cell_type": "code",
   "execution_count": 35,
   "metadata": {},
   "outputs": [],
   "source": [
    "cm = confusion_matrix(df_subset['class'], prob_class,labels=[0, 1, 2])"
   ]
  },
  {
   "cell_type": "code",
   "execution_count": 36,
   "metadata": {},
   "outputs": [
    {
     "name": "stdout",
     "output_type": "stream",
     "text": [
      "Prediction accuracy: 8.93%\n"
     ]
    }
   ],
   "source": [
    "print(\"Prediction accuracy: %.2f%%\" % (accuracy_score(df_subset['class'], probs)*100))"
   ]
  },
  {
   "cell_type": "code",
   "execution_count": 38,
   "metadata": {},
   "outputs": [
    {
     "data": {
      "image/png": "[encoded data removed]",
      "text/plain": [
       "<Figure size 432x288 with 2 Axes>"
      ]
     },
     "metadata": {},
     "output_type": "display_data"
    }
   ],
   "source": [
    "confusion_matrix_plot(cm, names=[0,1,2]);"
   ]
  },
  {
   "cell_type": "code",
   "execution_count": 39,
   "metadata": {},
   "outputs": [
    {
     "name": "stdout",
     "output_type": "stream",
     "text": [
      "              precision    recall  f1-score   support\n",
      "\n",
      "           0       0.22      0.16      0.19      1011\n",
      "           1       0.28      0.24      0.26      1120\n",
      "           2       0.64      0.21      0.32      1047\n",
      "\n",
      "   micro avg       0.32      0.21      0.25      3178\n",
      "   macro avg       0.38      0.21      0.26      3178\n",
      "weighted avg       0.38      0.21      0.26      3178\n",
      "\n"
     ]
    }
   ],
   "source": [
    "print(classification_report(df_subset['class'], prob_class,labels=[0, 1, 2]))"
   ]
  },
  {
   "cell_type": "code",
   "execution_count": null,
   "metadata": {},
   "outputs": [],
   "source": []
  }
 ],
 "metadata": {
  "kernelspec": {
   "display_name": "Python 3",
   "language": "python",
   "name": "python3"
  },
  "language_info": {
   "codemirror_mode": {
    "name": "ipython",
    "version": 3
   },
   "file_extension": ".py",
   "mimetype": "text/x-python",
   "name": "python",
   "nbconvert_exporter": "python",
   "pygments_lexer": "ipython3",
   "version": "3.7.7"
  }
 },
 "nbformat": 4,
 "nbformat_minor": 4
}
